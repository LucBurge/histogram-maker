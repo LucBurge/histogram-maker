{
  "nbformat": 4,
  "nbformat_minor": 0,
  "metadata": {
    "colab": {
      "name": "histogram.ipynb",
      "provenance": []
    },
    "kernelspec": {
      "name": "python3",
      "display_name": "Python 3"
    }
  },
  "cells": [
    {
      "cell_type": "code",
      "metadata": {
        "id": "-sMgd1WZVTHL",
        "outputId": "3856f5bd-d2f9-472e-e665-c1343a6e288c",
        "colab": {
          "base_uri": "https://localhost:8080/"
        }
      },
      "source": [
        "#Take a sentence as user input\n",
        "sentence = input(\"Please enter a sentence: \")\n",
        "\n",
        "#Stores letters to create the histogram from\n",
        "letters = [\"a\", \"e\", \"i\", \"o\", \"u\"]\n",
        "\n",
        "#Loops through letters and the characters of the sentence, counting how many of each letter are in the sentence\n",
        "def histogram(sentence, letters):\n",
        "    for j in letters:\n",
        "        count = 0\n",
        "        countOther = 0\n",
        "        for i in sentence:\n",
        "            if i.capitalize() == j.capitalize():\n",
        "                count = count + 1\n",
        "            elif i != \" \":\n",
        "                    countOther = countOther + 1\n",
        "       \n",
        "        print(f\"{j.capitalize()}: \" + \"*\" * count)\n",
        "    print(\"Other (non-space) Characters: \" + \"*\" * countOther)\n",
        "\n",
        "#Displays hitogram using a * character to show how many times each letter occurs in the sentence\n",
        "histogram(sentence, letters)"
      ],
      "execution_count": 4,
      "outputs": [
        {
          "output_type": "stream",
          "text": [
            "Please enter a sentence: Time for lunch!\n",
            "A: \n",
            "E: *\n",
            "I: *\n",
            "O: *\n",
            "U: *\n",
            "Other (non-space) Characters: ************\n"
          ],
          "name": "stdout"
        }
      ]
    }
  ]
}