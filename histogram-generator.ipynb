{
 "cells": [
  {
   "cell_type": "code",
   "execution_count": 38,
   "metadata": {},
   "outputs": [
    {
     "name": "stdout",
     "output_type": "stream",
     "text": [
      "Please enter a sentence: I hope my baby doesn't wake up from his nap until this programme is finished...\n",
      "A: ****\n",
      "E: *****\n",
      "I: *******\n",
      "O: ****\n",
      "U: **\n",
      "Other (non-space) Characters: ***************************************************************\n",
      "None\n"
     ]
    }
   ],
   "source": [
    "#Take a sentence as user input\n",
    "sentence = input(\"Please enter a sentence: \")\n",
    "\n",
    "#Stores letters to create the histogram from\n",
    "letters = [\"a\", \"e\", \"i\", \"o\", \"u\"]\n",
    "\n",
    "#Loops through letters and the characters of the sentence, counting how many of each letter are in the sentence\n",
    "def histogram(sentence, letters):\n",
    "    for j in letters:\n",
    "        count = 0\n",
    "        countOther = 0\n",
    "        for i in sentence:\n",
    "            if i.capitalize() == j.capitalize():\n",
    "                count = count + 1\n",
    "            else:\n",
    "                if i != \" \":\n",
    "                    countOther = countOther + 1\n",
    "       \n",
    "        print(f\"{j.capitalize()}: \" + \"*\" * count)\n",
    "    print(\"Other (non-space) Characters: \" + \"*\" * countOther)\n",
    "\n",
    "#Displays hitogram using a * character to show how many times each letter occurs in the sentence\n",
    "print(histogram(sentence, letters))"
   ]
  },
  {
   "cell_type": "code",
   "execution_count": null,
   "metadata": {},
   "outputs": [],
   "source": []
  }
 ],
 "metadata": {
  "kernelspec": {
   "display_name": "Python 3",
   "language": "python",
   "name": "python3"
  },
  "language_info": {
   "codemirror_mode": {
    "name": "ipython",
    "version": 3
   },
   "file_extension": ".py",
   "mimetype": "text/x-python",
   "name": "python",
   "nbconvert_exporter": "python",
   "pygments_lexer": "ipython3",
   "version": "3.8.3"
  }
 },
 "nbformat": 4,
 "nbformat_minor": 4
}
